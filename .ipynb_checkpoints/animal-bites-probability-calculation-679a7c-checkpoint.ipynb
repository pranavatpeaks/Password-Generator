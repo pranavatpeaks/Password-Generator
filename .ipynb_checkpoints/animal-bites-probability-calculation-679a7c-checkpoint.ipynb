{
 "cells": [
  {
   "cell_type": "code",
   "execution_count": 2,
   "metadata": {
    "_cell_guid": "b1076dfc-b9ad-4769-8c92-a6c4dae69d19",
    "_uuid": "8f2839f25d086af736a60e9eeb907d3b93b6e0e5",
    "execution": {
     "iopub.execute_input": "2022-07-17T08:21:26.049362Z",
     "iopub.status.busy": "2022-07-17T08:21:26.048903Z",
     "iopub.status.idle": "2022-07-17T08:21:26.061205Z",
     "shell.execute_reply": "2022-07-17T08:21:26.059965Z",
     "shell.execute_reply.started": "2022-07-17T08:21:26.049326Z"
    }
   },
   "outputs": [],
   "source": [
    "# This Python 3 environment comes with many helpful analytics libraries installed\n",
    "# It is defined by the kaggle/python Docker image: https://github.com/kaggle/docker-python\n",
    "# For example, here's several helpful packages to load\n",
    "\n",
    "import numpy as np # linear algebra\n",
    "import pandas as pd # data processing, CSV file I/O (e.g. pd.read_csv)\n",
    "import matplotlib.pyplot as plt"
   ]
  },
  {
   "cell_type": "code",
   "execution_count": null,
   "metadata": {},
   "outputs": [],
   "source": []
  },
  {
   "cell_type": "code",
   "execution_count": null,
   "metadata": {},
   "outputs": [],
   "source": []
  },
  {
   "cell_type": "code",
   "execution_count": 3,
   "metadata": {
    "execution": {
     "iopub.execute_input": "2022-07-17T08:23:02.04815Z",
     "iopub.status.busy": "2022-07-17T08:23:02.047469Z",
     "iopub.status.idle": "2022-07-17T08:23:02.091682Z",
     "shell.execute_reply": "2022-07-17T08:23:02.090535Z",
     "shell.execute_reply.started": "2022-07-17T08:23:02.048102Z"
    }
   },
   "outputs": [
    {
     "ename": "FileNotFoundError",
     "evalue": "[Errno 2] No such file or directory: '../input/animal-bites/Health_AnimalBites.csv'",
     "output_type": "error",
     "traceback": [
      "\u001b[0;31m---------------------------------------------------------------------------\u001b[0m",
      "\u001b[0;31mFileNotFoundError\u001b[0m                         Traceback (most recent call last)",
      "Cell \u001b[0;32mIn[3], line 2\u001b[0m\n\u001b[1;32m      1\u001b[0m \u001b[38;5;66;03m#import and read the file to see the data\u001b[39;00m\n\u001b[0;32m----> 2\u001b[0m bites \u001b[38;5;241m=\u001b[39m pd\u001b[38;5;241m.\u001b[39mread_csv(\u001b[38;5;124m\"\u001b[39m\u001b[38;5;124m../input/animal-bites/Health_AnimalBites.csv\u001b[39m\u001b[38;5;124m\"\u001b[39m)\n\u001b[1;32m      3\u001b[0m bites\u001b[38;5;241m.\u001b[39mhead()\n",
      "File \u001b[0;32m~/anaconda3/lib/python3.11/site-packages/pandas/io/parsers/readers.py:912\u001b[0m, in \u001b[0;36mread_csv\u001b[0;34m(filepath_or_buffer, sep, delimiter, header, names, index_col, usecols, dtype, engine, converters, true_values, false_values, skipinitialspace, skiprows, skipfooter, nrows, na_values, keep_default_na, na_filter, verbose, skip_blank_lines, parse_dates, infer_datetime_format, keep_date_col, date_parser, date_format, dayfirst, cache_dates, iterator, chunksize, compression, thousands, decimal, lineterminator, quotechar, quoting, doublequote, escapechar, comment, encoding, encoding_errors, dialect, on_bad_lines, delim_whitespace, low_memory, memory_map, float_precision, storage_options, dtype_backend)\u001b[0m\n\u001b[1;32m    899\u001b[0m kwds_defaults \u001b[38;5;241m=\u001b[39m _refine_defaults_read(\n\u001b[1;32m    900\u001b[0m     dialect,\n\u001b[1;32m    901\u001b[0m     delimiter,\n\u001b[0;32m   (...)\u001b[0m\n\u001b[1;32m    908\u001b[0m     dtype_backend\u001b[38;5;241m=\u001b[39mdtype_backend,\n\u001b[1;32m    909\u001b[0m )\n\u001b[1;32m    910\u001b[0m kwds\u001b[38;5;241m.\u001b[39mupdate(kwds_defaults)\n\u001b[0;32m--> 912\u001b[0m \u001b[38;5;28;01mreturn\u001b[39;00m _read(filepath_or_buffer, kwds)\n",
      "File \u001b[0;32m~/anaconda3/lib/python3.11/site-packages/pandas/io/parsers/readers.py:577\u001b[0m, in \u001b[0;36m_read\u001b[0;34m(filepath_or_buffer, kwds)\u001b[0m\n\u001b[1;32m    574\u001b[0m _validate_names(kwds\u001b[38;5;241m.\u001b[39mget(\u001b[38;5;124m\"\u001b[39m\u001b[38;5;124mnames\u001b[39m\u001b[38;5;124m\"\u001b[39m, \u001b[38;5;28;01mNone\u001b[39;00m))\n\u001b[1;32m    576\u001b[0m \u001b[38;5;66;03m# Create the parser.\u001b[39;00m\n\u001b[0;32m--> 577\u001b[0m parser \u001b[38;5;241m=\u001b[39m TextFileReader(filepath_or_buffer, \u001b[38;5;241m*\u001b[39m\u001b[38;5;241m*\u001b[39mkwds)\n\u001b[1;32m    579\u001b[0m \u001b[38;5;28;01mif\u001b[39;00m chunksize \u001b[38;5;129;01mor\u001b[39;00m iterator:\n\u001b[1;32m    580\u001b[0m     \u001b[38;5;28;01mreturn\u001b[39;00m parser\n",
      "File \u001b[0;32m~/anaconda3/lib/python3.11/site-packages/pandas/io/parsers/readers.py:1407\u001b[0m, in \u001b[0;36mTextFileReader.__init__\u001b[0;34m(self, f, engine, **kwds)\u001b[0m\n\u001b[1;32m   1404\u001b[0m     \u001b[38;5;28mself\u001b[39m\u001b[38;5;241m.\u001b[39moptions[\u001b[38;5;124m\"\u001b[39m\u001b[38;5;124mhas_index_names\u001b[39m\u001b[38;5;124m\"\u001b[39m] \u001b[38;5;241m=\u001b[39m kwds[\u001b[38;5;124m\"\u001b[39m\u001b[38;5;124mhas_index_names\u001b[39m\u001b[38;5;124m\"\u001b[39m]\n\u001b[1;32m   1406\u001b[0m \u001b[38;5;28mself\u001b[39m\u001b[38;5;241m.\u001b[39mhandles: IOHandles \u001b[38;5;241m|\u001b[39m \u001b[38;5;28;01mNone\u001b[39;00m \u001b[38;5;241m=\u001b[39m \u001b[38;5;28;01mNone\u001b[39;00m\n\u001b[0;32m-> 1407\u001b[0m \u001b[38;5;28mself\u001b[39m\u001b[38;5;241m.\u001b[39m_engine \u001b[38;5;241m=\u001b[39m \u001b[38;5;28mself\u001b[39m\u001b[38;5;241m.\u001b[39m_make_engine(f, \u001b[38;5;28mself\u001b[39m\u001b[38;5;241m.\u001b[39mengine)\n",
      "File \u001b[0;32m~/anaconda3/lib/python3.11/site-packages/pandas/io/parsers/readers.py:1661\u001b[0m, in \u001b[0;36mTextFileReader._make_engine\u001b[0;34m(self, f, engine)\u001b[0m\n\u001b[1;32m   1659\u001b[0m     \u001b[38;5;28;01mif\u001b[39;00m \u001b[38;5;124m\"\u001b[39m\u001b[38;5;124mb\u001b[39m\u001b[38;5;124m\"\u001b[39m \u001b[38;5;129;01mnot\u001b[39;00m \u001b[38;5;129;01min\u001b[39;00m mode:\n\u001b[1;32m   1660\u001b[0m         mode \u001b[38;5;241m+\u001b[39m\u001b[38;5;241m=\u001b[39m \u001b[38;5;124m\"\u001b[39m\u001b[38;5;124mb\u001b[39m\u001b[38;5;124m\"\u001b[39m\n\u001b[0;32m-> 1661\u001b[0m \u001b[38;5;28mself\u001b[39m\u001b[38;5;241m.\u001b[39mhandles \u001b[38;5;241m=\u001b[39m get_handle(\n\u001b[1;32m   1662\u001b[0m     f,\n\u001b[1;32m   1663\u001b[0m     mode,\n\u001b[1;32m   1664\u001b[0m     encoding\u001b[38;5;241m=\u001b[39m\u001b[38;5;28mself\u001b[39m\u001b[38;5;241m.\u001b[39moptions\u001b[38;5;241m.\u001b[39mget(\u001b[38;5;124m\"\u001b[39m\u001b[38;5;124mencoding\u001b[39m\u001b[38;5;124m\"\u001b[39m, \u001b[38;5;28;01mNone\u001b[39;00m),\n\u001b[1;32m   1665\u001b[0m     compression\u001b[38;5;241m=\u001b[39m\u001b[38;5;28mself\u001b[39m\u001b[38;5;241m.\u001b[39moptions\u001b[38;5;241m.\u001b[39mget(\u001b[38;5;124m\"\u001b[39m\u001b[38;5;124mcompression\u001b[39m\u001b[38;5;124m\"\u001b[39m, \u001b[38;5;28;01mNone\u001b[39;00m),\n\u001b[1;32m   1666\u001b[0m     memory_map\u001b[38;5;241m=\u001b[39m\u001b[38;5;28mself\u001b[39m\u001b[38;5;241m.\u001b[39moptions\u001b[38;5;241m.\u001b[39mget(\u001b[38;5;124m\"\u001b[39m\u001b[38;5;124mmemory_map\u001b[39m\u001b[38;5;124m\"\u001b[39m, \u001b[38;5;28;01mFalse\u001b[39;00m),\n\u001b[1;32m   1667\u001b[0m     is_text\u001b[38;5;241m=\u001b[39mis_text,\n\u001b[1;32m   1668\u001b[0m     errors\u001b[38;5;241m=\u001b[39m\u001b[38;5;28mself\u001b[39m\u001b[38;5;241m.\u001b[39moptions\u001b[38;5;241m.\u001b[39mget(\u001b[38;5;124m\"\u001b[39m\u001b[38;5;124mencoding_errors\u001b[39m\u001b[38;5;124m\"\u001b[39m, \u001b[38;5;124m\"\u001b[39m\u001b[38;5;124mstrict\u001b[39m\u001b[38;5;124m\"\u001b[39m),\n\u001b[1;32m   1669\u001b[0m     storage_options\u001b[38;5;241m=\u001b[39m\u001b[38;5;28mself\u001b[39m\u001b[38;5;241m.\u001b[39moptions\u001b[38;5;241m.\u001b[39mget(\u001b[38;5;124m\"\u001b[39m\u001b[38;5;124mstorage_options\u001b[39m\u001b[38;5;124m\"\u001b[39m, \u001b[38;5;28;01mNone\u001b[39;00m),\n\u001b[1;32m   1670\u001b[0m )\n\u001b[1;32m   1671\u001b[0m \u001b[38;5;28;01massert\u001b[39;00m \u001b[38;5;28mself\u001b[39m\u001b[38;5;241m.\u001b[39mhandles \u001b[38;5;129;01mis\u001b[39;00m \u001b[38;5;129;01mnot\u001b[39;00m \u001b[38;5;28;01mNone\u001b[39;00m\n\u001b[1;32m   1672\u001b[0m f \u001b[38;5;241m=\u001b[39m \u001b[38;5;28mself\u001b[39m\u001b[38;5;241m.\u001b[39mhandles\u001b[38;5;241m.\u001b[39mhandle\n",
      "File \u001b[0;32m~/anaconda3/lib/python3.11/site-packages/pandas/io/common.py:859\u001b[0m, in \u001b[0;36mget_handle\u001b[0;34m(path_or_buf, mode, encoding, compression, memory_map, is_text, errors, storage_options)\u001b[0m\n\u001b[1;32m    854\u001b[0m \u001b[38;5;28;01melif\u001b[39;00m \u001b[38;5;28misinstance\u001b[39m(handle, \u001b[38;5;28mstr\u001b[39m):\n\u001b[1;32m    855\u001b[0m     \u001b[38;5;66;03m# Check whether the filename is to be opened in binary mode.\u001b[39;00m\n\u001b[1;32m    856\u001b[0m     \u001b[38;5;66;03m# Binary mode does not support 'encoding' and 'newline'.\u001b[39;00m\n\u001b[1;32m    857\u001b[0m     \u001b[38;5;28;01mif\u001b[39;00m ioargs\u001b[38;5;241m.\u001b[39mencoding \u001b[38;5;129;01mand\u001b[39;00m \u001b[38;5;124m\"\u001b[39m\u001b[38;5;124mb\u001b[39m\u001b[38;5;124m\"\u001b[39m \u001b[38;5;129;01mnot\u001b[39;00m \u001b[38;5;129;01min\u001b[39;00m ioargs\u001b[38;5;241m.\u001b[39mmode:\n\u001b[1;32m    858\u001b[0m         \u001b[38;5;66;03m# Encoding\u001b[39;00m\n\u001b[0;32m--> 859\u001b[0m         handle \u001b[38;5;241m=\u001b[39m \u001b[38;5;28mopen\u001b[39m(\n\u001b[1;32m    860\u001b[0m             handle,\n\u001b[1;32m    861\u001b[0m             ioargs\u001b[38;5;241m.\u001b[39mmode,\n\u001b[1;32m    862\u001b[0m             encoding\u001b[38;5;241m=\u001b[39mioargs\u001b[38;5;241m.\u001b[39mencoding,\n\u001b[1;32m    863\u001b[0m             errors\u001b[38;5;241m=\u001b[39merrors,\n\u001b[1;32m    864\u001b[0m             newline\u001b[38;5;241m=\u001b[39m\u001b[38;5;124m\"\u001b[39m\u001b[38;5;124m\"\u001b[39m,\n\u001b[1;32m    865\u001b[0m         )\n\u001b[1;32m    866\u001b[0m     \u001b[38;5;28;01melse\u001b[39;00m:\n\u001b[1;32m    867\u001b[0m         \u001b[38;5;66;03m# Binary mode\u001b[39;00m\n\u001b[1;32m    868\u001b[0m         handle \u001b[38;5;241m=\u001b[39m \u001b[38;5;28mopen\u001b[39m(handle, ioargs\u001b[38;5;241m.\u001b[39mmode)\n",
      "\u001b[0;31mFileNotFoundError\u001b[0m: [Errno 2] No such file or directory: '../input/animal-bites/Health_AnimalBites.csv'"
     ]
    }
   ],
   "source": [
    "#import and read the file to see the data\n",
    "bites = pd.read_csv(\"/Users/pranavkothapalli/CODING/PYTHON/PROJECT/\")\n",
    "bites.head()"
   ]
  },
  {
   "cell_type": "code",
   "execution_count": null,
   "metadata": {
    "execution": {
     "iopub.execute_input": "2022-07-17T08:20:37.923468Z",
     "iopub.status.busy": "2022-07-17T08:20:37.923092Z",
     "iopub.status.idle": "2022-07-17T08:20:37.930848Z",
     "shell.execute_reply": "2022-07-17T08:20:37.929951Z",
     "shell.execute_reply.started": "2022-07-17T08:20:37.923437Z"
    }
   },
   "outputs": [],
   "source": [
    "#First step to get a grasp of the data.\n",
    "bites.columns"
   ]
  },
  {
   "cell_type": "code",
   "execution_count": null,
   "metadata": {
    "execution": {
     "iopub.execute_input": "2022-07-17T08:24:52.58453Z",
     "iopub.status.busy": "2022-07-17T08:24:52.584068Z",
     "iopub.status.idle": "2022-07-17T08:24:52.810858Z",
     "shell.execute_reply": "2022-07-17T08:24:52.809638Z",
     "shell.execute_reply.started": "2022-07-17T08:24:52.584493Z"
    }
   },
   "outputs": [],
   "source": [
    "print(\"Apparently people get the most bitten by dogs.\")\n",
    "print(bites[\"SpeciesIDDesc\"].value_counts())\n",
    "bites[\"SpeciesIDDesc\"].value_counts().plot(kind=\"bar\", title=\"People bitten divided by animals who bit\")"
   ]
  },
  {
   "cell_type": "code",
   "execution_count": null,
   "metadata": {
    "execution": {
     "iopub.execute_input": "2022-07-13T08:46:15.932827Z",
     "iopub.status.busy": "2022-07-13T08:46:15.93221Z",
     "iopub.status.idle": "2022-07-13T08:46:15.941947Z",
     "shell.execute_reply": "2022-07-13T08:46:15.941266Z",
     "shell.execute_reply.started": "2022-07-13T08:46:15.93279Z"
    }
   },
   "outputs": [],
   "source": [
    "#let's see when people get Rabies.\n",
    "positivetests = bites[bites[\"ResultsIDDesc\"] == \"POSITIVE\"]\n",
    "negativetests = bites[bites[\"ResultsIDDesc\"] == \"NEGATIVE\"]\n",
    "\n",
    "qpositive = len(positivetests[\"SpeciesIDDesc\"])\n",
    "qnegative = len(negativetests[\"SpeciesIDDesc\"])\n",
    "l = [qpositive, qnegative]\n",
    "all_tests = sum(l)\n",
    "percentagechance = round((qpositive / all_tests) * 100, 2)\n",
    "print(f\"There were in total {all_tests} tests. Only {qpositive} were positive and {qnegative} were negative.\")\n",
    "print(f\"According to this statistics you have a {percentagechance}% chance that you get Rabies, after you get bitten by a random animal near Louisville, Kentucky\")"
   ]
  },
  {
   "cell_type": "code",
   "execution_count": null,
   "metadata": {
    "execution": {
     "iopub.execute_input": "2022-07-13T08:46:37.384889Z",
     "iopub.status.busy": "2022-07-13T08:46:37.384427Z",
     "iopub.status.idle": "2022-07-13T08:46:37.46144Z",
     "shell.execute_reply": "2022-07-13T08:46:37.460448Z",
     "shell.execute_reply.started": "2022-07-13T08:46:37.384865Z"
    }
   },
   "outputs": [],
   "source": [
    "#Let's have a closer look to the 4 positive tests, which animals were responsible for Rabies.\n",
    "print(positivetests['SpeciesIDDesc'].value_counts())\n",
    "\n",
    "print(\"Out of the four positive tests, three tests were caused by a bite form a bat.\")\n",
    "print(positivetests['SpeciesIDDesc'].value_counts().plot(kind=\"pie\"))"
   ]
  },
  {
   "cell_type": "code",
   "execution_count": null,
   "metadata": {
    "execution": {
     "iopub.execute_input": "2022-07-17T08:27:58.561573Z",
     "iopub.status.busy": "2022-07-17T08:27:58.561156Z",
     "iopub.status.idle": "2022-07-17T08:27:58.574402Z",
     "shell.execute_reply": "2022-07-17T08:27:58.573171Z",
     "shell.execute_reply.started": "2022-07-17T08:27:58.561538Z"
    }
   },
   "outputs": [],
   "source": [
    "#How many people with a bat bit were tested?\n",
    "\n",
    "print(\"It seems that there is a big chance, that a bite from a bat leads to rabies.\")\n",
    "print(\"Let's check that.\")\n",
    "\n",
    "bats = bites[bites[\"SpeciesIDDesc\"] == \"BAT\"]\n",
    "\n",
    "total_bats_tests = len(bats[(bats['ResultsIDDesc'] == \"POSITIVE\") | (bats['ResultsIDDesc'] == \"NEGATIVE\")])\n",
    "bats_positive_tests = len(bats[bats['ResultsIDDesc'] == \"POSITIVE\"])\n",
    "chanche_rabies_bats = round((bats_positive_tests / total_bats_tests) * 100, 2)\n",
    "print()\n",
    "print(f\"There were {total_bats_tests} people tested after they got bitten by a bat. {bats_positive_tests} of them were tested positive.\")\n",
    "print(f\"The chanche that you get rabies after you got bitten by a bat is {chanche_rabies_bats}%\")"
   ]
  },
  {
   "cell_type": "code",
   "execution_count": null,
   "metadata": {
    "execution": {
     "iopub.execute_input": "2022-07-17T08:28:12.327382Z",
     "iopub.status.busy": "2022-07-17T08:28:12.326865Z",
     "iopub.status.idle": "2022-07-17T08:28:12.344625Z",
     "shell.execute_reply": "2022-07-17T08:28:12.343373Z",
     "shell.execute_reply.started": "2022-07-17T08:28:12.327332Z"
    }
   },
   "outputs": [],
   "source": [
    "print(\"Lets do the same now for dogs.\")\n",
    "print(\"Let's check that.\")\n",
    "dogs = bites[bites[\"SpeciesIDDesc\"] == \"DOG\"]\n",
    "\n",
    "total_dogs_tests = len(dogs[(dogs['ResultsIDDesc'] == \"POSITIVE\") | (dogs['ResultsIDDesc'] == \"NEGATIVE\")])\n",
    "dogs_positive_tests = len(dogs[dogs['ResultsIDDesc'] == \"POSITIVE\"])\n",
    "chanche_rabies_dogs = round((dogs_positive_tests / total_dogs_tests) * 100, 2)\n",
    "print()\n",
    "print(f\"There were {total_dogs_tests} people tested after they got bitten by a dog. {dogs_positive_tests} of them were tested positive.\")\n",
    "print(f\"The chanche that you get rabies after you got bitten by a dog is {chanche_rabies_dogs}%\")"
   ]
  },
  {
   "cell_type": "code",
   "execution_count": null,
   "metadata": {
    "execution": {
     "iopub.execute_input": "2022-07-17T08:32:01.548211Z",
     "iopub.status.busy": "2022-07-17T08:32:01.547716Z",
     "iopub.status.idle": "2022-07-17T08:32:01.554724Z",
     "shell.execute_reply": "2022-07-17T08:32:01.553741Z",
     "shell.execute_reply.started": "2022-07-17T08:32:01.548171Z"
    }
   },
   "outputs": [],
   "source": [
    "print(\"According to this data, the chance that you got rabies after a bat-bite is almost similar to the chance\"\n",
    "      \"that you got rabies after you got bitten by a dog. People just tend to test themselves more often after a bat-bite,\"\n",
    "     \"although they get bitten less by bats, then by dogs.\")"
   ]
  }
 ],
 "metadata": {
  "kaggle": {
   "accelerator": "none",
   "dataSources": [
    {
     "datasetId": 2515,
     "sourceId": 4202,
     "sourceType": "datasetVersion"
    }
   ],
   "dockerImageVersionId": 30207,
   "isGpuEnabled": false,
   "isInternetEnabled": false,
   "language": "python",
   "sourceType": "notebook"
  },
  "kernelspec": {
   "display_name": "Python 3 (ipykernel)",
   "language": "python",
   "name": "python3"
  },
  "language_info": {
   "codemirror_mode": {
    "name": "ipython",
    "version": 3
   },
   "file_extension": ".py",
   "mimetype": "text/x-python",
   "name": "python",
   "nbconvert_exporter": "python",
   "pygments_lexer": "ipython3",
   "version": "3.11.5"
  }
 },
 "nbformat": 4,
 "nbformat_minor": 4
}
